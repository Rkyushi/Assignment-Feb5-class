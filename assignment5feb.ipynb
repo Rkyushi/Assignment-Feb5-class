{
 "cells": [
  {
   "cell_type": "code",
   "execution_count": 1,
   "id": "ecb02336-ecc1-489d-9810-3232506eecfc",
   "metadata": {},
   "outputs": [
    {
     "name": "stdout",
     "output_type": "stream",
     "text": [
      "Hi, I'm rAHUL and I'm 20 years old.\n",
      "Hi, I'm JANI and I'm 25 years old.\n"
     ]
    }
   ],
   "source": [
    "#Q1. Explain Class and Object with respect to Object-Oriented Programming. Give a suitable example.\n",
    "#Class and Object are two fundamental concepts in Object-Oriented Programming (OOP).\n",
    "#A Class is a blueprint or a template that defines the attributes and methods of an object. It defines the characteristics of the objects that will be created from the class. The class acts as a blueprint for the objects and is responsible for creating the objects and managing the data stored in them.\n",
    "#An Object is an instance of a class. It is a real-world entity that contains its own state and behavior. The state of an object is represented by its attributes, and the behavior is defined by its methods. Objects can interact with each other and access the attributes and methods of other objects.\n",
    "class Person:\n",
    "  def __init__(self, name, age):\n",
    "    self.name = name\n",
    "    self.age = age\n",
    "  def introduce(self):\n",
    "    return \"Hi, I'm \" + self.name + \" and I'm \" + str(self.age) + \" years old.\"\n",
    "person1 = Person(\"rAHUL\", 20)\n",
    "print(person1.introduce())\n",
    "person2 = Person(\"JANI\", 25)\n",
    "print(person2.introduce())\n"
   ]
  },
  {
   "cell_type": "markdown",
   "id": "8f9aca69-4cbf-4a8f-b45b-b0038207a7f0",
   "metadata": {},
   "source": [
    "Q2. Name the four pillars of OOPS.\n",
    "The four pillars of Object-Oriented Programming (OOPS) are:\n",
    "• Abstraction: This allows the object to hide the implementation details and only show the necessary information to the user.\n",
    "• Encapsulation: This feature helps in keeping the data and functions associated with the object secure and prevent unauthorized access.\n",
    "• Inheritance: This helps in creating a new class based on an existing class by inheriting its properties and methods.\n",
    "• Polymorphism: This allows the objects of different classes to be used interchangeably in the same way, providing a level of flexibility in code design and reuse.\n"
   ]
  },
  {
   "cell_type": "code",
   "execution_count": 2,
   "id": "db19c20e-a570-4c1c-aeda-6dabc597d9ca",
   "metadata": {},
   "outputs": [],
   "source": [
    "#Q3. Explain why the __init__() function is used. Give a suitable example.\n",
    "#The __init__() function is used in Python as the constructor method of a class. It is automatically called when an object of a class is created.\n",
    "#The __init__() method takes in the initial values of the attributes as arguments and assigns them to the attributes of the object. It is used to initialize the attributes of an object and set the default values for them.\n",
    "#For example, consider the following class representing a rectangle:\n",
    "#Here, the __init__() method takes two arguments length and width which are the attributes of a rectangle object. When an object of the Rectangle class is created, the values of length and width are passed as arguments to the __init__() method and these values are assigned to the attributes self.length and self.width respectively.\n",
    "#In this way, the __init__() function is used to initialize the attributes of an object and set the default values for them when an object is created.\n",
    "class Rectangle:\n",
    "    def __init__(self, length, width):\n",
    "        self.length = length\n",
    "        self.width = width\n"
   ]
  },
  {
   "cell_type": "markdown",
   "id": "f1265779-d33c-4d72-b022-2b4a635f867f",
   "metadata": {},
   "source": [
    "Q4. Why self is used in OOPS?\n",
    "In object-oriented programming, the self keyword is used to refer to the instance of the class itself. It is used to access the attributes and methods of a class within the class definition. The self keyword is used to make a distinction between the instance variables and local variables of a class.\n"
   ]
  },
  {
   "cell_type": "code",
   "execution_count": 3,
   "id": "ddd53e34-9ac7-412d-aa40-55c551b3c808",
   "metadata": {},
   "outputs": [],
   "source": [
    "#Q5. What is inheritance? Give an example for each type of inheritance.\n",
    "#Inheritance is a mechanism in object-oriented programming that allows a class to inherit properties and behaviors from a parent class.\n",
    "#This allows for code reuse and reduces the amount of code that needs to be written. There are several types of inheritance, including:\n",
    "#• Single inheritance: When a class inherits from a single parent class. For example:\n",
    "class Car:\n",
    "    def __init__(self, make, model):\n",
    "        self.make = make\n",
    "        self.model = model\n",
    "class SportsCar(Car):\n",
    "    def __init__(self, make, model, top_speed):\n",
    "        Car.__init__(self, make, model)\n",
    "        self.top_speed = top_speed\n"
   ]
  },
  {
   "cell_type": "code",
   "execution_count": 6,
   "id": "ede698d1-6fa3-4f70-b369-5ebc6f79a80c",
   "metadata": {},
   "outputs": [],
   "source": [
    "#• Multi-level inheritance: When a class inherits from a parent class, which in turn inherits from another parent class. For example:\n",
    "class Car:\n",
    "    def __init__(self, make, model):\n",
    "        self.make = make\n",
    "        self.model = model\n",
    "class SportsCar(Car):\n",
    "    def __init__(self, make, model, top_speed):\n",
    "        Car.__init__(self, make, model)\n",
    "        self.top_speed = top_speed\n",
    "class RacingCar(SportsCar):\n",
    "    def __init__(self, make, model, top_speed, races_won):\n",
    "        SportsCar.__init__(self, make, model, top_speed)\n",
    "        self.races_won = races_won\n"
   ]
  },
  {
   "cell_type": "code",
   "execution_count": 7,
   "id": "90135d2e-1752-400d-882c-804b1b9fc59f",
   "metadata": {},
   "outputs": [],
   "source": [
    "#• Multiple inheritance: When a class inherits from multiple parent classes. For example:\n",
    "class Car:\n",
    "    def __init__(self, make, model):\n",
    "        self.make = make\n",
    "        self.model = model\n",
    "class SportsCar:\n",
    "    def __init__(self, top_speed):\n",
    "        self.top_speed = top_speed\n",
    "class RacingCar(Car, SportsCar):\n",
    "    def __init__(self, make, model, top_speed, races_won):\n",
    "        Car.__init__(self, make, model)\n",
    "        SportsCar.__init__(self, top_speed)\n",
    "        self.races_won = races_won\n"
   ]
  },
  {
   "cell_type": "code",
   "execution_count": 4,
   "id": "9f3f7cb2-d0ff-4fa7-8739-4c26c11a6476",
   "metadata": {},
   "outputs": [],
   "source": [
    "#• Hierarchical inheritance: When a class inherits from multiple parent classes and each of those parent classes inherits from a common parent class. For example:\n",
    "class Car:\n",
    "    def __init__(self, make, model):\n",
    "        self.make = make\n",
    "        self.model = model\n",
    "class SportsCar(Car):\n",
    "    def __init__(self, make, model, top_speed):\n",
    "        Car.__init__(self, make, model)\n",
    "        self.top_speed = top_speed\n",
    "class RacingCar(SportsCar):\n",
    "    def __init__(self, make, model, top_speed, races_won):\n",
    "        SportsCar.__init__(self, make, model, top_speed)\n",
    "        self.races_won = races_won\n"
   ]
  },
  {
   "cell_type": "code",
   "execution_count": null,
   "id": "8ed1a700-2ad9-433c-8f27-cde94c7387b2",
   "metadata": {},
   "outputs": [],
   "source": []
  }
 ],
 "metadata": {
  "kernelspec": {
   "display_name": "Python 3 (ipykernel)",
   "language": "python",
   "name": "python3"
  },
  "language_info": {
   "codemirror_mode": {
    "name": "ipython",
    "version": 3
   },
   "file_extension": ".py",
   "mimetype": "text/x-python",
   "name": "python",
   "nbconvert_exporter": "python",
   "pygments_lexer": "ipython3",
   "version": "3.10.8"
  }
 },
 "nbformat": 4,
 "nbformat_minor": 5
}
